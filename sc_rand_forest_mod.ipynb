{
 "cells": [
  {
   "cell_type": "code",
   "execution_count": 1,
   "metadata": {},
   "outputs": [],
   "source": [
    "import numpy as np\n",
    "import pandas as pd\n",
    "import matplotlib.pyplot as plt\n",
    "%matplotlib inline\n",
    "from datetime import datetime\n",
    "import datetime\n",
    "import pandas_datareader.data as web"
   ]
  },
  {
   "cell_type": "code",
   "execution_count": 2,
   "metadata": {},
   "outputs": [],
   "source": [
    "start = datetime.datetime(2019, 9, 27)\n",
    "end = datetime.datetime(2020, 10, 8)\n",
    "btc = web.DataReader('BTC-USD','yahoo', start, end)"
   ]
  },
  {
   "cell_type": "code",
   "execution_count": 3,
   "metadata": {},
   "outputs": [],
   "source": [
    "btc = btc[~btc.index.duplicated(keep='first')]"
   ]
  },
  {
   "cell_type": "code",
   "execution_count": 4,
   "metadata": {},
   "outputs": [],
   "source": [
    "btc = btc.drop(columns=['High','Low','Open','Close','Volume'])"
   ]
  },
  {
   "cell_type": "code",
   "execution_count": 5,
   "metadata": {},
   "outputs": [],
   "source": [
    "btc.columns = ['Price']"
   ]
  },
  {
   "cell_type": "code",
   "execution_count": 6,
   "metadata": {},
   "outputs": [],
   "source": [
    "btc = btc.reset_index()"
   ]
  },
  {
   "cell_type": "code",
   "execution_count": 7,
   "metadata": {},
   "outputs": [],
   "source": [
    "r = pd.date_range(start=btc.Date.min(), end=btc.Date.max())\n",
    "btc = btc.set_index('Date').reindex(r).rename_axis('Date').reset_index()"
   ]
  },
  {
   "cell_type": "code",
   "execution_count": 8,
   "metadata": {},
   "outputs": [],
   "source": [
    "btc['Date'] = pd.to_datetime(btc['Date'])\n",
    "btc.set_index('Date',inplace=True)"
   ]
  },
  {
   "cell_type": "code",
   "execution_count": 9,
   "metadata": {},
   "outputs": [],
   "source": [
    "btc = btc.fillna(method='ffill')\n",
    "btc = btc.fillna(method='bfill')"
   ]
  },
  {
   "cell_type": "code",
   "execution_count": 10,
   "metadata": {},
   "outputs": [],
   "source": [
    "btc = btc.loc['2019-09-27':'2020-10-08']"
   ]
  },
  {
   "cell_type": "code",
   "execution_count": 11,
   "metadata": {},
   "outputs": [],
   "source": [
    "start = datetime.datetime(2019, 9, 27)\n",
    "end = datetime.datetime(2020, 10, 8)\n",
    "sc = web.DataReader('SC-USD','yahoo', start, end)"
   ]
  },
  {
   "cell_type": "code",
   "execution_count": 12,
   "metadata": {},
   "outputs": [],
   "source": [
    "sc = sc.loc['2019-09-27':'2020-10-08']"
   ]
  },
  {
   "cell_type": "code",
   "execution_count": 13,
   "metadata": {},
   "outputs": [],
   "source": [
    "sc = sc[~sc.index.duplicated(keep='first')]"
   ]
  },
  {
   "cell_type": "code",
   "execution_count": 14,
   "metadata": {},
   "outputs": [],
   "source": [
    "sc = sc.drop(columns=['High','Low','Open','Close'])"
   ]
  },
  {
   "cell_type": "code",
   "execution_count": 15,
   "metadata": {},
   "outputs": [],
   "source": [
    "sc.columns = ['Price','Volume']"
   ]
  },
  {
   "cell_type": "code",
   "execution_count": 16,
   "metadata": {},
   "outputs": [],
   "source": [
    "sc = sc.reset_index()"
   ]
  },
  {
   "cell_type": "code",
   "execution_count": 17,
   "metadata": {},
   "outputs": [],
   "source": [
    "r = pd.date_range(start=sc.Date.min(), end=sc.Date.max())\n",
    "sc = sc.set_index('Date').reindex(r).rename_axis('Date').reset_index()"
   ]
  },
  {
   "cell_type": "code",
   "execution_count": 18,
   "metadata": {},
   "outputs": [],
   "source": [
    "sc['Date'] = pd.to_datetime(sc['Date'])\n",
    "sc.set_index('Date',inplace=True)"
   ]
  },
  {
   "cell_type": "code",
   "execution_count": 19,
   "metadata": {},
   "outputs": [],
   "source": [
    "sc = sc.fillna(method='ffill')\n",
    "sc = sc.fillna(method='bfill')"
   ]
  },
  {
   "cell_type": "code",
   "execution_count": 20,
   "metadata": {},
   "outputs": [],
   "source": [
    "import requests\n",
    "from pandas.io.json import json_normalize"
   ]
  },
  {
   "cell_type": "code",
   "execution_count": 21,
   "metadata": {},
   "outputs": [],
   "source": [
    "url = 'https://siastats.info/dbs/miningdb.json'\n",
    "sc_hr = pd.read_json(url)"
   ]
  },
  {
   "cell_type": "code",
   "execution_count": 22,
   "metadata": {},
   "outputs": [],
   "source": [
    "sc_hr['date'] = pd.date_range(start='6/6/2015', periods=len(sc_hr), freq='D')"
   ]
  },
  {
   "cell_type": "code",
   "execution_count": 23,
   "metadata": {},
   "outputs": [],
   "source": [
    "sc_hr = sc_hr.drop(columns=['time','difficulty','blocktime'])"
   ]
  },
  {
   "cell_type": "code",
   "execution_count": 24,
   "metadata": {},
   "outputs": [],
   "source": [
    "sc_hr['date'] = pd.to_datetime(sc_hr['date'])\n",
    "sc_hr.set_index('date',inplace=True)"
   ]
  },
  {
   "cell_type": "code",
   "execution_count": 25,
   "metadata": {},
   "outputs": [],
   "source": [
    "sc_hr = sc_hr.loc['2019-09-27':'2020-10-08']"
   ]
  },
  {
   "cell_type": "code",
   "execution_count": 26,
   "metadata": {},
   "outputs": [],
   "source": [
    "url1 = 'https://siastats.info/dbs/activecontracts.json'\n",
    "sc_contr = pd.read_json(url1)"
   ]
  },
  {
   "cell_type": "code",
   "execution_count": 27,
   "metadata": {},
   "outputs": [],
   "source": [
    "sc_contr['date'] = pd.date_range(start='6/6/2015', periods=len(sc_contr), freq='D')"
   ]
  },
  {
   "cell_type": "code",
   "execution_count": 28,
   "metadata": {},
   "outputs": [],
   "source": [
    "sc_contr = sc_contr.drop(columns=['time','activecontractsize','activecontractcost'])"
   ]
  },
  {
   "cell_type": "code",
   "execution_count": 29,
   "metadata": {},
   "outputs": [],
   "source": [
    "sc_contr['date'] = pd.to_datetime(sc_contr['date'])\n",
    "sc_contr.set_index('date',inplace=True)"
   ]
  },
  {
   "cell_type": "code",
   "execution_count": 30,
   "metadata": {},
   "outputs": [],
   "source": [
    "sc_contr = sc_contr.loc['2019-09-27':'2020-10-08']"
   ]
  },
  {
   "cell_type": "code",
   "execution_count": 31,
   "metadata": {},
   "outputs": [],
   "source": [
    "url2 = 'https://siastats.info/dbs/storage.json'\n",
    "sc_stor = pd.read_json(url2)"
   ]
  },
  {
   "cell_type": "code",
   "execution_count": 32,
   "metadata": {},
   "outputs": [],
   "source": [
    "sc_stor['date'] = pd.date_range(start='9/11/2017', periods=len(sc_stor), freq='D')"
   ]
  },
  {
   "cell_type": "code",
   "execution_count": 33,
   "metadata": {},
   "outputs": [],
   "source": [
    "sc_stor = sc_stor.drop(columns=['total'])"
   ]
  },
  {
   "cell_type": "code",
   "execution_count": 34,
   "metadata": {},
   "outputs": [],
   "source": [
    "sc_stor['date'] = pd.to_datetime(sc_stor['date'])\n",
    "sc_stor.set_index('date',inplace=True)"
   ]
  },
  {
   "cell_type": "code",
   "execution_count": 35,
   "metadata": {},
   "outputs": [],
   "source": [
    "sc_stor = sc_stor.loc['2019-09-27':'2020-10-08']"
   ]
  },
  {
   "cell_type": "code",
   "execution_count": 36,
   "metadata": {},
   "outputs": [],
   "source": [
    "url3 = 'https://siastats.info/dbs/transactionsdb.json'\n",
    "sc_tx = pd.read_json(url3)"
   ]
  },
  {
   "cell_type": "code",
   "execution_count": 37,
   "metadata": {},
   "outputs": [],
   "source": [
    "sc_tx['date'] = pd.date_range(start='6/6/2015', periods=len(sc_tx), freq='D')"
   ]
  },
  {
   "cell_type": "code",
   "execution_count": 38,
   "metadata": {},
   "outputs": [],
   "source": [
    "sc_tx = sc_tx.drop(columns=['time','totaltx'])"
   ]
  },
  {
   "cell_type": "code",
   "execution_count": 39,
   "metadata": {},
   "outputs": [],
   "source": [
    "sc_tx['date'] = pd.to_datetime(sc_tx['date'])\n",
    "sc_tx.set_index('date',inplace=True)"
   ]
  },
  {
   "cell_type": "code",
   "execution_count": 40,
   "metadata": {},
   "outputs": [],
   "source": [
    "sc_tx = sc_tx.loc['2019-09-27':'2020-10-08']"
   ]
  },
  {
   "cell_type": "code",
   "execution_count": 41,
   "metadata": {},
   "outputs": [],
   "source": [
    "frames = [btc,sc,sc_hr,sc_contr,sc_stor,sc_tx]"
   ]
  },
  {
   "cell_type": "code",
   "execution_count": 42,
   "metadata": {},
   "outputs": [],
   "source": [
    "sc_multy = pd.concat(frames,sort=False,axis=1)"
   ]
  },
  {
   "cell_type": "code",
   "execution_count": 43,
   "metadata": {},
   "outputs": [],
   "source": [
    "sc_multy.columns = ['BTC_Price','SC_Volume','SC_Price','Hashrate','Contracts','Used_Storage','Daily_Tx']"
   ]
  },
  {
   "cell_type": "code",
   "execution_count": 44,
   "metadata": {},
   "outputs": [],
   "source": [
    "sc_multy = sc_multy.fillna(method='ffill')\n",
    "sc_multy = sc_multy.fillna(method='bfill')"
   ]
  },
  {
   "cell_type": "code",
   "execution_count": 45,
   "metadata": {},
   "outputs": [],
   "source": [
    "sc_multy = sc_multy.reindex(columns = ['BTC_Price','SC_Volume','Hashrate','Contracts','Used_Storage','Daily_Tx','SC_Price'])"
   ]
  },
  {
   "cell_type": "code",
   "execution_count": 46,
   "metadata": {
    "scrolled": true
   },
   "outputs": [
    {
     "data": {
      "text/html": [
       "<div>\n",
       "<style scoped>\n",
       "    .dataframe tbody tr th:only-of-type {\n",
       "        vertical-align: middle;\n",
       "    }\n",
       "\n",
       "    .dataframe tbody tr th {\n",
       "        vertical-align: top;\n",
       "    }\n",
       "\n",
       "    .dataframe thead th {\n",
       "        text-align: right;\n",
       "    }\n",
       "</style>\n",
       "<table border=\"1\" class=\"dataframe\">\n",
       "  <thead>\n",
       "    <tr style=\"text-align: right;\">\n",
       "      <th></th>\n",
       "      <th>BTC_Price</th>\n",
       "      <th>SC_Volume</th>\n",
       "      <th>Hashrate</th>\n",
       "      <th>Contracts</th>\n",
       "      <th>Used_Storage</th>\n",
       "      <th>Daily_Tx</th>\n",
       "      <th>SC_Price</th>\n",
       "    </tr>\n",
       "  </thead>\n",
       "  <tbody>\n",
       "    <tr>\n",
       "      <th>2020-10-04</th>\n",
       "      <td>10804.000977</td>\n",
       "      <td>1624328.0</td>\n",
       "      <td>8426.050178</td>\n",
       "      <td>195124.0</td>\n",
       "      <td>690.84</td>\n",
       "      <td>14210.0</td>\n",
       "      <td>0.002826</td>\n",
       "    </tr>\n",
       "    <tr>\n",
       "      <th>2020-10-05</th>\n",
       "      <td>10621.664062</td>\n",
       "      <td>1354025.0</td>\n",
       "      <td>8338.793499</td>\n",
       "      <td>192975.0</td>\n",
       "      <td>690.84</td>\n",
       "      <td>19466.0</td>\n",
       "      <td>0.002637</td>\n",
       "    </tr>\n",
       "    <tr>\n",
       "      <th>2020-10-06</th>\n",
       "      <td>10679.136719</td>\n",
       "      <td>1005155.0</td>\n",
       "      <td>8632.116299</td>\n",
       "      <td>191107.0</td>\n",
       "      <td>690.84</td>\n",
       "      <td>31968.0</td>\n",
       "      <td>0.002692</td>\n",
       "    </tr>\n",
       "    <tr>\n",
       "      <th>2020-10-07</th>\n",
       "      <td>10679.136719</td>\n",
       "      <td>1005155.0</td>\n",
       "      <td>8632.116299</td>\n",
       "      <td>191107.0</td>\n",
       "      <td>690.84</td>\n",
       "      <td>31968.0</td>\n",
       "      <td>0.002692</td>\n",
       "    </tr>\n",
       "    <tr>\n",
       "      <th>2020-10-08</th>\n",
       "      <td>10647.002930</td>\n",
       "      <td>1697586.0</td>\n",
       "      <td>8632.116299</td>\n",
       "      <td>191107.0</td>\n",
       "      <td>690.84</td>\n",
       "      <td>31968.0</td>\n",
       "      <td>0.002709</td>\n",
       "    </tr>\n",
       "  </tbody>\n",
       "</table>\n",
       "</div>"
      ],
      "text/plain": [
       "               BTC_Price  SC_Volume     Hashrate  Contracts  Used_Storage  \\\n",
       "2020-10-04  10804.000977  1624328.0  8426.050178   195124.0        690.84   \n",
       "2020-10-05  10621.664062  1354025.0  8338.793499   192975.0        690.84   \n",
       "2020-10-06  10679.136719  1005155.0  8632.116299   191107.0        690.84   \n",
       "2020-10-07  10679.136719  1005155.0  8632.116299   191107.0        690.84   \n",
       "2020-10-08  10647.002930  1697586.0  8632.116299   191107.0        690.84   \n",
       "\n",
       "            Daily_Tx  SC_Price  \n",
       "2020-10-04   14210.0  0.002826  \n",
       "2020-10-05   19466.0  0.002637  \n",
       "2020-10-06   31968.0  0.002692  \n",
       "2020-10-07   31968.0  0.002692  \n",
       "2020-10-08   31968.0  0.002709  "
      ]
     },
     "execution_count": 46,
     "metadata": {},
     "output_type": "execute_result"
    }
   ],
   "source": [
    "sc_multy.tail()"
   ]
  },
  {
   "cell_type": "code",
   "execution_count": 47,
   "metadata": {},
   "outputs": [],
   "source": [
    "sc_multy = sc_multy.drop(columns='BTC_Price')"
   ]
  },
  {
   "cell_type": "code",
   "execution_count": 49,
   "metadata": {},
   "outputs": [],
   "source": [
    "x = sc_multy.iloc[:,:-1].values\n",
    "y = sc_multy.iloc[:,-1].values"
   ]
  },
  {
   "cell_type": "code",
   "execution_count": 50,
   "metadata": {},
   "outputs": [],
   "source": [
    "from sklearn.model_selection import train_test_split\n",
    "x_train, x_test, y_train, y_test = train_test_split(x, y, test_size = 0.2, random_state = 0)"
   ]
  },
  {
   "cell_type": "code",
   "execution_count": 51,
   "metadata": {},
   "outputs": [
    {
     "data": {
      "text/plain": [
       "RandomForestRegressor(bootstrap=True, ccp_alpha=0.0, criterion='mse',\n",
       "                      max_depth=None, max_features='auto', max_leaf_nodes=None,\n",
       "                      max_samples=None, min_impurity_decrease=0.0,\n",
       "                      min_impurity_split=None, min_samples_leaf=1,\n",
       "                      min_samples_split=2, min_weight_fraction_leaf=0.0,\n",
       "                      n_estimators=10, n_jobs=None, oob_score=False,\n",
       "                      random_state=0, verbose=0, warm_start=False)"
      ]
     },
     "execution_count": 51,
     "metadata": {},
     "output_type": "execute_result"
    }
   ],
   "source": [
    "from sklearn.ensemble import RandomForestRegressor\n",
    "regressor = RandomForestRegressor(n_estimators=10, random_state = 0)\n",
    "regressor.fit(x_train, y_train)"
   ]
  },
  {
   "cell_type": "code",
   "execution_count": 52,
   "metadata": {},
   "outputs": [
    {
     "name": "stdout",
     "output_type": "stream",
     "text": [
      "[[0.0032 0.0028]\n",
      " [0.0025 0.0023]\n",
      " [0.0032 0.0032]\n",
      " [0.0032 0.0035]\n",
      " [0.0024 0.0023]\n",
      " [0.0019 0.0017]\n",
      " [0.0044 0.005 ]\n",
      " [0.0019 0.0016]\n",
      " [0.002  0.0017]\n",
      " [0.0019 0.002 ]\n",
      " [0.0025 0.0024]\n",
      " [0.0032 0.0029]\n",
      " [0.0025 0.0026]\n",
      " [0.0023 0.0022]\n",
      " [0.0021 0.0021]\n",
      " [0.0019 0.0015]\n",
      " [0.0032 0.0031]\n",
      " [0.0032 0.0034]\n",
      " [0.0019 0.0018]\n",
      " [0.0015 0.0011]\n",
      " [0.0026 0.0028]\n",
      " [0.0022 0.002 ]\n",
      " [0.0026 0.0027]\n",
      " [0.0033 0.0036]\n",
      " [0.0015 0.0013]\n",
      " [0.0015 0.0013]\n",
      " [0.0034 0.0038]\n",
      " [0.0021 0.0019]\n",
      " [0.0035 0.0034]\n",
      " [0.0015 0.0014]\n",
      " [0.003  0.0026]\n",
      " [0.0019 0.0017]\n",
      " [0.0019 0.0016]\n",
      " [0.0032 0.0031]\n",
      " [0.0019 0.0021]\n",
      " [0.0019 0.0012]\n",
      " [0.0023 0.0022]\n",
      " [0.0025 0.0031]\n",
      " [0.0015 0.0015]\n",
      " [0.002  0.0017]\n",
      " [0.0019 0.002 ]\n",
      " [0.0019 0.0019]\n",
      " [0.0019 0.0015]\n",
      " [0.0016 0.0013]\n",
      " [0.0032 0.0032]\n",
      " [0.0015 0.0013]\n",
      " [0.0032 0.003 ]\n",
      " [0.0019 0.0023]\n",
      " [0.0019 0.0019]\n",
      " [0.0015 0.0016]\n",
      " [0.0019 0.0016]\n",
      " [0.0032 0.0031]\n",
      " [0.0015 0.0014]\n",
      " [0.0019 0.0017]\n",
      " [0.0027 0.0028]\n",
      " [0.0032 0.0029]\n",
      " [0.0035 0.0045]\n",
      " [0.0031 0.0029]\n",
      " [0.0028 0.0032]\n",
      " [0.0019 0.0021]\n",
      " [0.0031 0.003 ]\n",
      " [0.0016 0.0014]\n",
      " [0.0017 0.0021]\n",
      " [0.0028 0.0027]\n",
      " [0.0015 0.0014]\n",
      " [0.0023 0.0021]\n",
      " [0.0022 0.0022]\n",
      " [0.0019 0.0016]\n",
      " [0.0019 0.0016]\n",
      " [0.0015 0.0013]\n",
      " [0.0015 0.0013]\n",
      " [0.0032 0.003 ]\n",
      " [0.0015 0.002 ]\n",
      " [0.0022 0.0021]\n",
      " [0.0033 0.0033]\n",
      " [0.0019 0.0016]]\n"
     ]
    }
   ],
   "source": [
    "y_pred = regressor.predict(x_test)\n",
    "np.set_printoptions(precision=4)\n",
    "print(np.concatenate((y_pred.reshape(len(y_pred),1), y_test.reshape(len(y_test),1)),1))"
   ]
  },
  {
   "cell_type": "code",
   "execution_count": 53,
   "metadata": {},
   "outputs": [
    {
     "data": {
      "text/plain": [
       "0.8850854794786391"
      ]
     },
     "execution_count": 53,
     "metadata": {},
     "output_type": "execute_result"
    }
   ],
   "source": [
    "from sklearn.metrics import r2_score\n",
    "r2_score(y_test, y_pred)"
   ]
  },
  {
   "cell_type": "code",
   "execution_count": null,
   "metadata": {},
   "outputs": [],
   "source": []
  }
 ],
 "metadata": {
  "kernelspec": {
   "display_name": "Python 3",
   "language": "python",
   "name": "python3"
  },
  "language_info": {
   "codemirror_mode": {
    "name": "ipython",
    "version": 3
   },
   "file_extension": ".py",
   "mimetype": "text/x-python",
   "name": "python",
   "nbconvert_exporter": "python",
   "pygments_lexer": "ipython3",
   "version": "3.7.6"
  }
 },
 "nbformat": 4,
 "nbformat_minor": 4
}
